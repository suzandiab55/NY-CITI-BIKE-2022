{
 "cells": [
  {
   "cell_type": "code",
   "execution_count": 1,
   "id": "b6343632-b4e1-4e3c-bacc-7dd8d706f3f1",
   "metadata": {},
   "outputs": [],
   "source": [
    "# Importing necessary libraries\n",
    "\n",
    "import pandas as pd\n",
    "import os\n",
    "from keplergl import KeplerGl\n",
    "from pyproj import CRS\n",
    "import numpy as np\n",
    "from matplotlib import pyplot as plt"
   ]
  },
  {
   "cell_type": "code",
   "execution_count": 2,
   "id": "dbc1ac7a-03ed-40e0-b645-0143f6214f29",
   "metadata": {},
   "outputs": [
    {
     "name": "stderr",
     "output_type": "stream",
     "text": [
      "/var/folders/4p/ym48tzyj1vv3lyzdlk4g93jh0000gn/T/ipykernel_64531/622408861.py:2: DtypeWarning: Columns (6,8) have mixed types. Specify dtype option on import or set low_memory=False.\n",
      "  df = pd.read_csv('ny_data.csv', index_col = 0)\n"
     ]
    }
   ],
   "source": [
    "# Reading in CSV file\n",
    "df = pd.read_csv('ny_data.csv', index_col = 0)"
   ]
  },
  {
   "cell_type": "markdown",
   "id": "7ed357c8-4e17-41d7-93b0-ae1523d9522d",
   "metadata": {},
   "source": [
    "## Data Preprocessing"
   ]
  },
  {
   "cell_type": "code",
   "execution_count": 3,
   "id": "91a7df67-db24-438f-8c96-dd863525b6c6",
   "metadata": {},
   "outputs": [],
   "source": [
    "# Checking for missing values in df \n",
    "missing_values = df.isnull().sum()"
   ]
  },
  {
   "cell_type": "code",
   "execution_count": 4,
   "id": "54d9294e-6a7a-4b2e-bfa0-1a2f87396e71",
   "metadata": {},
   "outputs": [
    {
     "name": "stdout",
     "output_type": "stream",
     "text": [
      "ride_id                   0\n",
      "rideable_type             0\n",
      "started_at                0\n",
      "ended_at                  0\n",
      "start_station_name       50\n",
      "start_station_id         50\n",
      "end_station_name      71773\n",
      "end_station_id        71773\n",
      "start_lat                 0\n",
      "start_lng                 0\n",
      "end_lat               37516\n",
      "end_lng               37516\n",
      "member_casual             0\n",
      "date                      0\n",
      "avgTemp                   0\n",
      "_merge                    0\n",
      "dtype: int64\n"
     ]
    }
   ],
   "source": [
    "# Showing missing values\n",
    "print(missing_values)"
   ]
  },
  {
   "cell_type": "code",
   "execution_count": 5,
   "id": "6a07143d-a388-4256-bf86-5f933b079b6e",
   "metadata": {},
   "outputs": [],
   "source": [
    "# Creating subset with no missing values\n",
    "df_no_missing = df.dropna()"
   ]
  },
  {
   "cell_type": "code",
   "execution_count": 6,
   "id": "8bcf5e22-5ff6-4ea8-8227-e276211bdcb0",
   "metadata": {},
   "outputs": [
    {
     "name": "stderr",
     "output_type": "stream",
     "text": [
      "/var/folders/4p/ym48tzyj1vv3lyzdlk4g93jh0000gn/T/ipykernel_64531/219977528.py:2: SettingWithCopyWarning: \n",
      "A value is trying to be set on a copy of a slice from a DataFrame.\n",
      "Try using .loc[row_indexer,col_indexer] = value instead\n",
      "\n",
      "See the caveats in the documentation: https://pandas.pydata.org/pandas-docs/stable/user_guide/indexing.html#returning-a-view-versus-a-copy\n",
      "  df_no_missing['value'] = 1\n"
     ]
    }
   ],
   "source": [
    "# Creating a value column and grouping it by start and end station columns \n",
    "df_no_missing['value'] = 1\n",
    "df_group = df_no_missing.groupby(['start_station_name', 'end_station_name'])['value'].count().reset_index()"
   ]
  },
  {
   "cell_type": "code",
   "execution_count": 7,
   "id": "57bbf9a7-4277-4ca6-82a0-ed7b0e1b0600",
   "metadata": {},
   "outputs": [
    {
     "data": {
      "text/html": [
       "<div>\n",
       "<style scoped>\n",
       "    .dataframe tbody tr th:only-of-type {\n",
       "        vertical-align: middle;\n",
       "    }\n",
       "\n",
       "    .dataframe tbody tr th {\n",
       "        vertical-align: top;\n",
       "    }\n",
       "\n",
       "    .dataframe thead th {\n",
       "        text-align: right;\n",
       "    }\n",
       "</style>\n",
       "<table border=\"1\" class=\"dataframe\">\n",
       "  <thead>\n",
       "    <tr style=\"text-align: right;\">\n",
       "      <th></th>\n",
       "      <th>start_station_name</th>\n",
       "      <th>end_station_name</th>\n",
       "      <th>value</th>\n",
       "    </tr>\n",
       "  </thead>\n",
       "  <tbody>\n",
       "    <tr>\n",
       "      <th>0</th>\n",
       "      <td>1 Ave &amp; E 110 St</td>\n",
       "      <td>1 Ave &amp; E 110 St</td>\n",
       "      <td>1473</td>\n",
       "    </tr>\n",
       "    <tr>\n",
       "      <th>1</th>\n",
       "      <td>1 Ave &amp; E 110 St</td>\n",
       "      <td>1 Ave &amp; E 18 St</td>\n",
       "      <td>2</td>\n",
       "    </tr>\n",
       "    <tr>\n",
       "      <th>2</th>\n",
       "      <td>1 Ave &amp; E 110 St</td>\n",
       "      <td>1 Ave &amp; E 30 St</td>\n",
       "      <td>4</td>\n",
       "    </tr>\n",
       "    <tr>\n",
       "      <th>3</th>\n",
       "      <td>1 Ave &amp; E 110 St</td>\n",
       "      <td>1 Ave &amp; E 39 St</td>\n",
       "      <td>1</td>\n",
       "    </tr>\n",
       "    <tr>\n",
       "      <th>4</th>\n",
       "      <td>1 Ave &amp; E 110 St</td>\n",
       "      <td>1 Ave &amp; E 44 St</td>\n",
       "      <td>12</td>\n",
       "    </tr>\n",
       "  </tbody>\n",
       "</table>\n",
       "</div>"
      ],
      "text/plain": [
       "  start_station_name  end_station_name  value\n",
       "0   1 Ave & E 110 St  1 Ave & E 110 St   1473\n",
       "1   1 Ave & E 110 St   1 Ave & E 18 St      2\n",
       "2   1 Ave & E 110 St   1 Ave & E 30 St      4\n",
       "3   1 Ave & E 110 St   1 Ave & E 39 St      1\n",
       "4   1 Ave & E 110 St   1 Ave & E 44 St     12"
      ]
     },
     "execution_count": 7,
     "metadata": {},
     "output_type": "execute_result"
    }
   ],
   "source": [
    "# Viewing first 5 rows\n",
    "df_group.head()"
   ]
  },
  {
   "cell_type": "code",
   "execution_count": 8,
   "id": "2fb65211-3c34-427d-8982-3f6be3d332cd",
   "metadata": {},
   "outputs": [
    {
     "name": "stdout",
     "output_type": "stream",
     "text": [
      "30618148\n",
      "(30618148, 17)\n"
     ]
    }
   ],
   "source": [
    "# Checking counts of both df's\n",
    "print(df_group['value'].sum())\n",
    "print(df_no_missing.shape)"
   ]
  },
  {
   "cell_type": "code",
   "execution_count": 9,
   "id": "e8ce14cd-6e28-4ef8-93ed-de84ecdb5b64",
   "metadata": {},
   "outputs": [
    {
     "data": {
      "text/plain": [
       "count    1.013414e+06\n",
       "mean     3.021287e+01\n",
       "std      1.110286e+02\n",
       "min      1.000000e+00\n",
       "25%      1.000000e+00\n",
       "50%      4.000000e+00\n",
       "75%      1.700000e+01\n",
       "max      1.407100e+04\n",
       "Name: value, dtype: float64"
      ]
     },
     "execution_count": 9,
     "metadata": {},
     "output_type": "execute_result"
    }
   ],
   "source": [
    "# Descriptive stats\n",
    "df_group['value'].describe()"
   ]
  },
  {
   "cell_type": "markdown",
   "id": "f9ad7f17-3fce-4c73-ba3a-3d6b697e7a2f",
   "metadata": {},
   "source": [
    "## Exploratory Analysis"
   ]
  },
  {
   "cell_type": "code",
   "execution_count": 10,
   "id": "6b592e9e-a8d7-49d1-9698-393c6671c390",
   "metadata": {},
   "outputs": [
    {
     "data": {
      "image/png": "[encoded data removed]",
      "text/plain": [
       "<Figure size 640x480 with 1 Axes>"
      ]
     },
     "metadata": {},
     "output_type": "display_data"
    }
   ],
   "source": [
    "# Histogram\n",
    "df_group['value'].hist(bins = 100)\n",
    "plt.show()"
   ]
  },
  {
   "cell_type": "code",
   "execution_count": 11,
   "id": "7d6f212e-ea7d-40db-b339-3c640bc36dde",
   "metadata": {},
   "outputs": [
    {
     "data": {
      "text/plain": [
       "[]"
      ]
     },
     "execution_count": 11,
     "metadata": {},
     "output_type": "execute_result"
    },
    {
     "data": {
      "image/png": "[encoded data removed]",
      "text/plain": [
       "<Figure size 640x480 with 1 Axes>"
      ]
     },
     "metadata": {},
     "output_type": "display_data"
    }
   ],
   "source": [
    "# Box plot\n",
    "box_plot = df_group.boxplot(column = 'value') \n",
    "box_plot.plot()"
   ]
  },
  {
   "cell_type": "code",
   "execution_count": 12,
   "id": "b453a7b2-5d64-40dd-9aaa-b3f61811addb",
   "metadata": {},
   "outputs": [
    {
     "data": {
      "text/plain": [
       "1       268271\n",
       "2       128310\n",
       "3        78056\n",
       "4        54838\n",
       "5        40759\n",
       "         ...  \n",
       "1543         1\n",
       "1038         1\n",
       "1250         1\n",
       "1569         1\n",
       "5965         1\n",
       "Name: value, Length: 2065, dtype: int64"
      ]
     },
     "execution_count": 12,
     "metadata": {},
     "output_type": "execute_result"
    }
   ],
   "source": [
    "# Sorting df\n",
    "df_group['value'].sort_index().value_counts()"
   ]
  },
  {
   "cell_type": "code",
   "execution_count": 13,
   "id": "6dc269d3-6820-497b-821f-201c08954142",
   "metadata": {},
   "outputs": [],
   "source": [
    "# Saving df as CSV\n",
    "df_group.to_csv('df_groupby_final.csv')"
   ]
  },
  {
   "cell_type": "code",
   "execution_count": 14,
   "id": "f6ce44a8-5768-45d7-990a-72bce0270aa7",
   "metadata": {},
   "outputs": [],
   "source": [
    "# Renaming value column to trips\n",
    "df_group.rename(columns={'value': 'trips'}, inplace=True)"
   ]
  },
  {
   "cell_type": "code",
   "execution_count": 15,
   "id": "e094b637-3038-415e-ba6a-1e59dcdf8f42",
   "metadata": {},
   "outputs": [
    {
     "data": {
      "text/html": [
       "<div>\n",
       "<style scoped>\n",
       "    .dataframe tbody tr th:only-of-type {\n",
       "        vertical-align: middle;\n",
       "    }\n",
       "\n",
       "    .dataframe tbody tr th {\n",
       "        vertical-align: top;\n",
       "    }\n",
       "\n",
       "    .dataframe thead th {\n",
       "        text-align: right;\n",
       "    }\n",
       "</style>\n",
       "<table border=\"1\" class=\"dataframe\">\n",
       "  <thead>\n",
       "    <tr style=\"text-align: right;\">\n",
       "      <th></th>\n",
       "      <th>start_station_name</th>\n",
       "      <th>end_station_name</th>\n",
       "      <th>trips</th>\n",
       "    </tr>\n",
       "  </thead>\n",
       "  <tbody>\n",
       "    <tr>\n",
       "      <th>0</th>\n",
       "      <td>1 Ave &amp; E 110 St</td>\n",
       "      <td>1 Ave &amp; E 110 St</td>\n",
       "      <td>1473</td>\n",
       "    </tr>\n",
       "    <tr>\n",
       "      <th>1</th>\n",
       "      <td>1 Ave &amp; E 110 St</td>\n",
       "      <td>1 Ave &amp; E 18 St</td>\n",
       "      <td>2</td>\n",
       "    </tr>\n",
       "    <tr>\n",
       "      <th>2</th>\n",
       "      <td>1 Ave &amp; E 110 St</td>\n",
       "      <td>1 Ave &amp; E 30 St</td>\n",
       "      <td>4</td>\n",
       "    </tr>\n",
       "    <tr>\n",
       "      <th>3</th>\n",
       "      <td>1 Ave &amp; E 110 St</td>\n",
       "      <td>1 Ave &amp; E 39 St</td>\n",
       "      <td>1</td>\n",
       "    </tr>\n",
       "    <tr>\n",
       "      <th>4</th>\n",
       "      <td>1 Ave &amp; E 110 St</td>\n",
       "      <td>1 Ave &amp; E 44 St</td>\n",
       "      <td>12</td>\n",
       "    </tr>\n",
       "  </tbody>\n",
       "</table>\n",
       "</div>"
      ],
      "text/plain": [
       "  start_station_name  end_station_name  trips\n",
       "0   1 Ave & E 110 St  1 Ave & E 110 St   1473\n",
       "1   1 Ave & E 110 St   1 Ave & E 18 St      2\n",
       "2   1 Ave & E 110 St   1 Ave & E 30 St      4\n",
       "3   1 Ave & E 110 St   1 Ave & E 39 St      1\n",
       "4   1 Ave & E 110 St   1 Ave & E 44 St     12"
      ]
     },
     "execution_count": 15,
     "metadata": {},
     "output_type": "execute_result"
    }
   ],
   "source": [
    "# Viewing new column name \n",
    "df_group.head()"
   ]
  },
  {
   "cell_type": "code",
   "execution_count": 16,
   "id": "361cfdea-ddd3-44b8-9b5a-bad4c65cfe4f",
   "metadata": {},
   "outputs": [],
   "source": [
    "# Specifying columns in df\n",
    "df_no_missing = df_no_missing[['end_station_name', 'start_station_name', 'start_lat', 'start_lng', 'end_lat', 'end_lng']]"
   ]
  },
  {
   "cell_type": "code",
   "execution_count": 17,
   "id": "6923491b-da75-4d38-991b-6f054e0b0dfc",
   "metadata": {},
   "outputs": [
    {
     "data": {
      "text/html": [
       "<div>\n",
       "<style scoped>\n",
       "    .dataframe tbody tr th:only-of-type {\n",
       "        vertical-align: middle;\n",
       "    }\n",
       "\n",
       "    .dataframe tbody tr th {\n",
       "        vertical-align: top;\n",
       "    }\n",
       "\n",
       "    .dataframe thead th {\n",
       "        text-align: right;\n",
       "    }\n",
       "</style>\n",
       "<table border=\"1\" class=\"dataframe\">\n",
       "  <thead>\n",
       "    <tr style=\"text-align: right;\">\n",
       "      <th></th>\n",
       "      <th>end_station_name</th>\n",
       "      <th>start_station_name</th>\n",
       "      <th>start_lat</th>\n",
       "      <th>start_lng</th>\n",
       "      <th>end_lat</th>\n",
       "      <th>end_lng</th>\n",
       "    </tr>\n",
       "  </thead>\n",
       "  <tbody>\n",
       "    <tr>\n",
       "      <th>0</th>\n",
       "      <td>Madison Ave &amp; E 99 St</td>\n",
       "      <td>E 89 St &amp; 3 Ave</td>\n",
       "      <td>40.780628</td>\n",
       "      <td>-73.952167</td>\n",
       "      <td>40.789485</td>\n",
       "      <td>-73.952429</td>\n",
       "    </tr>\n",
       "    <tr>\n",
       "      <th>1</th>\n",
       "      <td>Broadway &amp; W 29 St</td>\n",
       "      <td>Broadway &amp; W 29 St</td>\n",
       "      <td>40.746201</td>\n",
       "      <td>-73.988557</td>\n",
       "      <td>40.746201</td>\n",
       "      <td>-73.988557</td>\n",
       "    </tr>\n",
       "    <tr>\n",
       "      <th>2</th>\n",
       "      <td>E 123 St &amp; Lexington Ave</td>\n",
       "      <td>E 123 St &amp; Lexington Ave</td>\n",
       "      <td>40.802926</td>\n",
       "      <td>-73.937900</td>\n",
       "      <td>40.802926</td>\n",
       "      <td>-73.937900</td>\n",
       "    </tr>\n",
       "    <tr>\n",
       "      <th>3</th>\n",
       "      <td>W 36 St &amp; 9 Ave</td>\n",
       "      <td>W 36 St &amp; 9 Ave</td>\n",
       "      <td>40.754623</td>\n",
       "      <td>-73.995168</td>\n",
       "      <td>40.754623</td>\n",
       "      <td>-73.995168</td>\n",
       "    </tr>\n",
       "    <tr>\n",
       "      <th>4</th>\n",
       "      <td>Graham Ave &amp; Withers St</td>\n",
       "      <td>Graham Ave &amp; Withers St</td>\n",
       "      <td>40.716981</td>\n",
       "      <td>-73.944859</td>\n",
       "      <td>40.716981</td>\n",
       "      <td>-73.944859</td>\n",
       "    </tr>\n",
       "  </tbody>\n",
       "</table>\n",
       "</div>"
      ],
      "text/plain": [
       "           end_station_name        start_station_name  start_lat  start_lng  \\\n",
       "0     Madison Ave & E 99 St           E 89 St & 3 Ave  40.780628 -73.952167   \n",
       "1        Broadway & W 29 St        Broadway & W 29 St  40.746201 -73.988557   \n",
       "2  E 123 St & Lexington Ave  E 123 St & Lexington Ave  40.802926 -73.937900   \n",
       "3           W 36 St & 9 Ave           W 36 St & 9 Ave  40.754623 -73.995168   \n",
       "4   Graham Ave & Withers St   Graham Ave & Withers St  40.716981 -73.944859   \n",
       "\n",
       "     end_lat    end_lng  \n",
       "0  40.789485 -73.952429  \n",
       "1  40.746201 -73.988557  \n",
       "2  40.802926 -73.937900  \n",
       "3  40.754623 -73.995168  \n",
       "4  40.716981 -73.944859  "
      ]
     },
     "execution_count": 17,
     "metadata": {},
     "output_type": "execute_result"
    }
   ],
   "source": [
    "# Viewing first 5 rows \n",
    "df_no_missing.head()"
   ]
  },
  {
   "cell_type": "code",
   "execution_count": 18,
   "id": "ab19519d",
   "metadata": {},
   "outputs": [],
   "source": [
    "# Create a representative sample of df_group \n",
    "df_group_sample = df_group.sample(frac=0.1, random_state=42)"
   ]
  },
  {
   "cell_type": "code",
   "execution_count": 19,
   "id": "697c1b24",
   "metadata": {},
   "outputs": [],
   "source": [
    "# Create a representative sample of df_no_missing \n",
    "df_no_missing_sample = df_no_missing.sample(frac=0.1, random_state=42)"
   ]
  },
  {
   "cell_type": "code",
   "execution_count": 20,
   "id": "190b00da-c939-4ca8-99df-376f69dfa731",
   "metadata": {},
   "outputs": [],
   "source": [
    "# Merge the dataframes on start_station_name and end_station_name\n",
    "df_final = pd.merge(df_group_sample, df_no_missing_sample, on=['start_station_name', 'end_station_name'])"
   ]
  },
  {
   "cell_type": "code",
   "execution_count": 21,
   "id": "ebf28647-1859-46b5-9a06-0dee84de6e03",
   "metadata": {},
   "outputs": [
    {
     "data": {
      "text/html": [
       "<div>\n",
       "<style scoped>\n",
       "    .dataframe tbody tr th:only-of-type {\n",
       "        vertical-align: middle;\n",
       "    }\n",
       "\n",
       "    .dataframe tbody tr th {\n",
       "        vertical-align: top;\n",
       "    }\n",
       "\n",
       "    .dataframe thead th {\n",
       "        text-align: right;\n",
       "    }\n",
       "</style>\n",
       "<table border=\"1\" class=\"dataframe\">\n",
       "  <thead>\n",
       "    <tr style=\"text-align: right;\">\n",
       "      <th></th>\n",
       "      <th>start_station_name</th>\n",
       "      <th>end_station_name</th>\n",
       "      <th>trips</th>\n",
       "      <th>start_lat</th>\n",
       "      <th>start_lng</th>\n",
       "      <th>end_lat</th>\n",
       "      <th>end_lng</th>\n",
       "    </tr>\n",
       "  </thead>\n",
       "  <tbody>\n",
       "    <tr>\n",
       "      <th>0</th>\n",
       "      <td>Duane St &amp; Hudson St</td>\n",
       "      <td>Greene St &amp; Prince St</td>\n",
       "      <td>41</td>\n",
       "      <td>40.717030</td>\n",
       "      <td>-74.009250</td>\n",
       "      <td>40.725117</td>\n",
       "      <td>-73.999305</td>\n",
       "    </tr>\n",
       "    <tr>\n",
       "      <th>1</th>\n",
       "      <td>Duane St &amp; Hudson St</td>\n",
       "      <td>Greene St &amp; Prince St</td>\n",
       "      <td>41</td>\n",
       "      <td>40.717030</td>\n",
       "      <td>-74.009250</td>\n",
       "      <td>40.725117</td>\n",
       "      <td>-73.999305</td>\n",
       "    </tr>\n",
       "    <tr>\n",
       "      <th>2</th>\n",
       "      <td>Duane St &amp; Hudson St</td>\n",
       "      <td>Greene St &amp; Prince St</td>\n",
       "      <td>41</td>\n",
       "      <td>40.717030</td>\n",
       "      <td>-74.009250</td>\n",
       "      <td>40.725117</td>\n",
       "      <td>-73.999305</td>\n",
       "    </tr>\n",
       "    <tr>\n",
       "      <th>3</th>\n",
       "      <td>Duane St &amp; Hudson St</td>\n",
       "      <td>Greene St &amp; Prince St</td>\n",
       "      <td>41</td>\n",
       "      <td>40.717030</td>\n",
       "      <td>-74.009250</td>\n",
       "      <td>40.725117</td>\n",
       "      <td>-73.999305</td>\n",
       "    </tr>\n",
       "    <tr>\n",
       "      <th>4</th>\n",
       "      <td>Duane St &amp; Hudson St</td>\n",
       "      <td>Greene St &amp; Prince St</td>\n",
       "      <td>41</td>\n",
       "      <td>40.717143</td>\n",
       "      <td>-74.009456</td>\n",
       "      <td>40.725117</td>\n",
       "      <td>-73.999305</td>\n",
       "    </tr>\n",
       "  </tbody>\n",
       "</table>\n",
       "</div>"
      ],
      "text/plain": [
       "     start_station_name       end_station_name  trips  start_lat  start_lng  \\\n",
       "0  Duane St & Hudson St  Greene St & Prince St     41  40.717030 -74.009250   \n",
       "1  Duane St & Hudson St  Greene St & Prince St     41  40.717030 -74.009250   \n",
       "2  Duane St & Hudson St  Greene St & Prince St     41  40.717030 -74.009250   \n",
       "3  Duane St & Hudson St  Greene St & Prince St     41  40.717030 -74.009250   \n",
       "4  Duane St & Hudson St  Greene St & Prince St     41  40.717143 -74.009456   \n",
       "\n",
       "     end_lat    end_lng  \n",
       "0  40.725117 -73.999305  \n",
       "1  40.725117 -73.999305  \n",
       "2  40.725117 -73.999305  \n",
       "3  40.725117 -73.999305  \n",
       "4  40.725117 -73.999305  "
      ]
     },
     "execution_count": 21,
     "metadata": {},
     "output_type": "execute_result"
    }
   ],
   "source": [
    "# Viewing df \n",
    "df_final.head()"
   ]
  },
  {
   "cell_type": "code",
   "execution_count": 22,
   "id": "a78fb9a1-ef0a-43bd-8328-2958eb89bd5e",
   "metadata": {},
   "outputs": [],
   "source": [
    "df_final.to_csv('df_final_locations.csv')"
   ]
  },
  {
   "cell_type": "markdown",
   "id": "612b656d-e945-4211-ad10-99ed39b5621c",
   "metadata": {},
   "source": [
    "## Kepler.gl Map"
   ]
  },
  {
   "cell_type": "code",
   "execution_count": 23,
   "id": "e54f4484-390e-4089-8bd8-d55e8aba0862",
   "metadata": {},
   "outputs": [
    {
     "name": "stdout",
     "output_type": "stream",
     "text": [
      "User Guide: https://docs.kepler.gl/docs/keplergl-jupyter\n"
     ]
    }
   ],
   "source": [
    "# Creating instance of kepler.gl map \n",
    "\n",
    "m = KeplerGl(height=700)\n",
    "m.add_data(data=df_final, name=\"data_1\")"
   ]
  },
  {
   "cell_type": "code",
   "execution_count": 24,
   "id": "3a251668-9d1e-4f6f-804a-8a6af3d06f55",
   "metadata": {},
   "outputs": [
    {
     "data": {
      "application/vnd.jupyter.widget-view+json": {
       "model_id": "e56019730e5c4b49bde0f99f9833737d",
       "version_major": 2,
       "version_minor": 0
      },
      "text/plain": [
       "KeplerGl(data={'data_1': {'index': [0, 1, 2, 3, 4, 5, 6, 7, 8, 9, 10, 11, 12, 13, 14, 15, 16, 17, 18, 19, 20, …"
      ]
     },
     "metadata": {},
     "output_type": "display_data"
    }
   ],
   "source": [
    "# Displaying map \n",
    "m "
   ]
  },
  {
   "cell_type": "markdown",
   "id": "3f2ae54c",
   "metadata": {},
   "source": [
    "Settings Changed:\n",
    "- End point eye icon was activated so we can also see end stations\n",
    "- Colors for start and end points were changed to more neutral colors so you could see the distinction between them better\n",
    "- Arc lines were enabled to show the different trips between start and end stations\n",
    "- Arc line color was changed to better visualize each trip line\n",
    "\n",
    "*Some Popular Routes/Start and End stations*\n",
    "\n",
    "Times Square/Bryant Park/Hudson Yards/Grand Central Terminal:\n",
    "- Broadway & West 41st St to 6th Ave and W 34th St.\n",
    "- West 42nd & 6th Ave to 11th Ave and West 41st St.\n",
    "- East 47th St & Park Ave to West 41st & 8th Ave.\n",
    "\n",
    "These stations are within a major intersection in Midtown Manhattan, which encompasses tourist attractions, green spaces, commercial areas, and transportation hubs.\n",
    "\n",
    "Chelsea: \n",
    "- West 21st & 6th Ave to 9th Ave & West 22nd St\n",
    "\n",
    "Factors such as the area's dense residential population, commercial activity, transportation connectivity, and entertainment complexes make it a high-traffic area for Citi Bike users.\n",
    "\n",
    "These areas are among the most visited places in New York City. "
   ]
  },
  {
   "cell_type": "code",
   "execution_count": 29,
   "id": "a02c68dd",
   "metadata": {},
   "outputs": [],
   "source": [
    "# Creating a config object and saving the output of the kepler.gl config method\n",
    "config = m.config"
   ]
  },
  {
   "cell_type": "code",
   "execution_count": 30,
   "id": "58bbe526",
   "metadata": {
    "collapsed": true
   },
   "outputs": [
    {
     "data": {
      "text/plain": [
       "{'version': 'v1',\n",
       " 'config': {'visState': {'filters': [{'dataId': ['data_1'],\n",
       "     'id': '8gqi5h52u',\n",
       "     'name': ['trips'],\n",
       "     'type': 'range',\n",
       "     'value': [2148, 6345],\n",
       "     'enlarged': False,\n",
       "     'plotType': 'histogram',\n",
       "     'animationWindow': 'free',\n",
       "     'yAxis': None,\n",
       "     'speed': 1}],\n",
       "   'layers': [{'id': 'w02wni2',\n",
       "     'type': 'point',\n",
       "     'config': {'dataId': 'data_1',\n",
       "      'label': 'start',\n",
       "      'color': [121, 9, 77],\n",
       "      'highlightColor': [252, 242, 26, 255],\n",
       "      'columns': {'lat': 'start_lat', 'lng': 'start_lng', 'altitude': None},\n",
       "      'isVisible': True,\n",
       "      'visConfig': {'radius': 10,\n",
       "       'fixedRadius': False,\n",
       "       'opacity': 0.8,\n",
       "       'outline': False,\n",
       "       'thickness': 2,\n",
       "       'strokeColor': None,\n",
       "       'colorRange': {'name': 'Global Warming',\n",
       "        'type': 'sequential',\n",
       "        'category': 'Uber',\n",
       "        'colors': ['#5A1846',\n",
       "         '#900C3F',\n",
       "         '#C70039',\n",
       "         '#E3611C',\n",
       "         '#F1920E',\n",
       "         '#FFC300']},\n",
       "       'strokeColorRange': {'name': 'Global Warming',\n",
       "        'type': 'sequential',\n",
       "        'category': 'Uber',\n",
       "        'colors': ['#5A1846',\n",
       "         '#900C3F',\n",
       "         '#C70039',\n",
       "         '#E3611C',\n",
       "         '#F1920E',\n",
       "         '#FFC300']},\n",
       "       'radiusRange': [0, 50],\n",
       "       'filled': True},\n",
       "      'hidden': False,\n",
       "      'textLabel': [{'field': None,\n",
       "        'color': [255, 255, 255],\n",
       "        'size': 18,\n",
       "        'offset': [0, 0],\n",
       "        'anchor': 'start',\n",
       "        'alignment': 'center'}]},\n",
       "     'visualChannels': {'colorField': None,\n",
       "      'colorScale': 'quantile',\n",
       "      'strokeColorField': None,\n",
       "      'strokeColorScale': 'quantile',\n",
       "      'sizeField': None,\n",
       "      'sizeScale': 'linear'}},\n",
       "    {'id': 'tdk8sc',\n",
       "     'type': 'point',\n",
       "     'config': {'dataId': 'data_1',\n",
       "      'label': 'end',\n",
       "      'color': [228, 182, 0],\n",
       "      'highlightColor': [252, 242, 26, 255],\n",
       "      'columns': {'lat': 'end_lat', 'lng': 'end_lng', 'altitude': None},\n",
       "      'isVisible': True,\n",
       "      'visConfig': {'radius': 10,\n",
       "       'fixedRadius': False,\n",
       "       'opacity': 0.8,\n",
       "       'outline': False,\n",
       "       'thickness': 2,\n",
       "       'strokeColor': None,\n",
       "       'colorRange': {'name': 'Global Warming',\n",
       "        'type': 'sequential',\n",
       "        'category': 'Uber',\n",
       "        'colors': ['#5A1846',\n",
       "         '#900C3F',\n",
       "         '#C70039',\n",
       "         '#E3611C',\n",
       "         '#F1920E',\n",
       "         '#FFC300']},\n",
       "       'strokeColorRange': {'name': 'Global Warming',\n",
       "        'type': 'sequential',\n",
       "        'category': 'Uber',\n",
       "        'colors': ['#5A1846',\n",
       "         '#900C3F',\n",
       "         '#C70039',\n",
       "         '#E3611C',\n",
       "         '#F1920E',\n",
       "         '#FFC300']},\n",
       "       'radiusRange': [0, 50],\n",
       "       'filled': True},\n",
       "      'hidden': False,\n",
       "      'textLabel': [{'field': None,\n",
       "        'color': [255, 255, 255],\n",
       "        'size': 18,\n",
       "        'offset': [0, 0],\n",
       "        'anchor': 'start',\n",
       "        'alignment': 'center'}]},\n",
       "     'visualChannels': {'colorField': None,\n",
       "      'colorScale': 'quantile',\n",
       "      'strokeColorField': None,\n",
       "      'strokeColorScale': 'quantile',\n",
       "      'sizeField': None,\n",
       "      'sizeScale': 'linear'}},\n",
       "    {'id': 'wbrc8u',\n",
       "     'type': 'arc',\n",
       "     'config': {'dataId': 'data_1',\n",
       "      'label': 'start -> end arc',\n",
       "      'color': [134, 10, 90],\n",
       "      'highlightColor': [252, 242, 26, 255],\n",
       "      'columns': {'lat0': 'start_lat',\n",
       "       'lng0': 'start_lng',\n",
       "       'lat1': 'end_lat',\n",
       "       'lng1': 'end_lng'},\n",
       "      'isVisible': True,\n",
       "      'visConfig': {'opacity': 0.8,\n",
       "       'thickness': 2,\n",
       "       'colorRange': {'name': 'Global Warming',\n",
       "        'type': 'sequential',\n",
       "        'category': 'Uber',\n",
       "        'colors': ['#5A1846',\n",
       "         '#900C3F',\n",
       "         '#C70039',\n",
       "         '#E3611C',\n",
       "         '#F1920E',\n",
       "         '#FFC300']},\n",
       "       'sizeRange': [0, 10],\n",
       "       'targetColor': [237, 200, 0]},\n",
       "      'hidden': False,\n",
       "      'textLabel': [{'field': None,\n",
       "        'color': [255, 255, 255],\n",
       "        'size': 18,\n",
       "        'offset': [0, 0],\n",
       "        'anchor': 'start',\n",
       "        'alignment': 'center'}]},\n",
       "     'visualChannels': {'colorField': None,\n",
       "      'colorScale': 'quantile',\n",
       "      'sizeField': None,\n",
       "      'sizeScale': 'linear'}}],\n",
       "   'interactionConfig': {'tooltip': {'fieldsToShow': {'data_1': [{'name': 'start_station_name',\n",
       "        'format': None},\n",
       "       {'name': 'end_station_name', 'format': None},\n",
       "       {'name': 'trips', 'format': None}]},\n",
       "     'compareMode': False,\n",
       "     'compareType': 'absolute',\n",
       "     'enabled': True},\n",
       "    'brush': {'size': 0.5, 'enabled': False},\n",
       "    'geocoder': {'enabled': False},\n",
       "    'coordinate': {'enabled': False}},\n",
       "   'layerBlending': 'normal',\n",
       "   'splitMaps': [],\n",
       "   'animationConfig': {'currentTime': None, 'speed': 1}},\n",
       "  'mapState': {'bearing': 0,\n",
       "   'dragRotate': False,\n",
       "   'latitude': 40.74290420292969,\n",
       "   'longitude': -73.98512147151595,\n",
       "   'pitch': 0,\n",
       "   'zoom': 12.17381841457165,\n",
       "   'isSplit': False},\n",
       "  'mapStyle': {'styleType': 'dark',\n",
       "   'topLayerGroups': {},\n",
       "   'visibleLayerGroups': {'label': True,\n",
       "    'road': True,\n",
       "    'border': False,\n",
       "    'building': True,\n",
       "    'water': True,\n",
       "    'land': True,\n",
       "    '3d building': False},\n",
       "   'threeDBuildingColor': [9.665468314072013,\n",
       "    17.18305478057247,\n",
       "    31.1442867897876],\n",
       "   'mapStyles': {}}}}"
      ]
     },
     "execution_count": 30,
     "metadata": {},
     "output_type": "execute_result"
    }
   ],
   "source": [
    "# Displaying config \n",
    "config"
   ]
  },
  {
   "cell_type": "code",
   "execution_count": 31,
   "id": "2f81434f",
   "metadata": {},
   "outputs": [],
   "source": [
    "# Storing configure file\n",
    "import json\n",
    "with open(\"config.json\", \"w\") as outfile:\n",
    "    json.dump(config, outfile)"
   ]
  },
  {
   "cell_type": "code",
   "execution_count": 32,
   "id": "c0ad1d9f",
   "metadata": {},
   "outputs": [
    {
     "name": "stdout",
     "output_type": "stream",
     "text": [
      "Map saved to nyc_bike_map.html!\n"
     ]
    }
   ],
   "source": [
    "# Saving map as html file\n",
    "m.save_to_html(file_name = 'nyc_bike_map.html', read_only = False, config = config)"
   ]
  }
 ],
 "metadata": {
  "kernelspec": {
   "display_name": "Python 3 (ipykernel)",
   "language": "python",
   "name": "python3"
  },
  "language_info": {
   "codemirror_mode": {
    "name": "ipython",
    "version": 3
   },
   "file_extension": ".py",
   "mimetype": "text/x-python",
   "name": "python",
   "nbconvert_exporter": "python",
   "pygments_lexer": "ipython3",
   "version": "3.10.14"
  }
 },
 "nbformat": 4,
 "nbformat_minor": 5
}
